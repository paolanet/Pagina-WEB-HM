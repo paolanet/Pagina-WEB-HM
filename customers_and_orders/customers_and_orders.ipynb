{
  "cells": [
    {
      "cell_type": "markdown",
      "metadata": {
        "id": "piiX_CRNFYUi"
      },
      "source": [
        "# Technical Challenge ! Custiomers and Orders - The lifeblood of any business!\n",
        "\n",
        "This notebook depends on two data files: customers.scv and orders.csv. These files are hosted in the cloud (or Github), so for simplicity, we are providing you with the code to download and save the two files in a folder called 'sample_data' which lives within this notebook session (not on your local computer nor Google Drive).\n",
        "\n",
        "![sample_data folder in notebook session](https://raw.githubusercontent.com/anyoneai/notebooks/main/customers_and_orders/images/sample_data_folder.png)\n",
        "\n",
        "Please execute the first code snippet before moving to the rest of the exercise as this code will import the data from the files for you to be able to execute the rest of the exercise.\n",
        "\n",
        "Remember as we said in the previous lecture, you have to save this notebook into your Google Drive by going to menu File/Save a Copy In Drive, or clicking in the button \"Copy to Drive\". This way, you will not lose any work you've done and the file will persist with your latest changes in your Google Drive. Also we recommend you to rename your .ipynb in your Google Drive, so you can easily find it in the future."
      ]
    },
    {
      "cell_type": "code",
      "execution_count": 2,
      "metadata": {
        "colab": {
          "base_uri": "https://localhost:8080/"
        },
        "id": "MWpVO242FQHC",
        "outputId": "4e04f84f-6cb7-493d-a41f-5b3a801969fd"
      },
      "outputs": [
        {
          "output_type": "stream",
          "name": "stdout",
          "text": [
            "Customers and orders CSV files have been added './sample_data'\n"
          ]
        }
      ],
      "source": [
        "import requests\n",
        "\n",
        "def import_data_files():\n",
        "  r = requests.get('https://raw.githubusercontent.com/anyoneai/notebooks/main/customers_and_orders/data/customers.csv')\n",
        "  with open('./sample_data/customers.csv', 'wb') as f:\n",
        "    f.write(r.content)\n",
        "\n",
        "  r = requests.get('https://raw.githubusercontent.com/anyoneai/notebooks/main/customers_and_orders/data/orders.csv')\n",
        "  with open('./sample_data/orders.csv', 'wb') as f:\n",
        "    f.write(r.content)\n",
        "\n",
        "import_data_files()\n",
        "print(\"Customers and orders CSV files have been added './sample_data'\")"
      ]
    },
    {
      "cell_type": "markdown",
      "metadata": {
        "id": "JQAduY-RWKyB"
      },
      "source": [
        "# Exercise 1: Processing Customers data (difficulty medium)\n",
        "\n",
        "The sample customer data in 'customers.csv' file has just 5 columns: CustomerId, First Name, Last Name, City and State\n",
        "\n",
        "![Data sample](https://raw.githubusercontent.com/anyoneai/notebooks/main/customers_and_orders/images/customers.png)\n",
        "\n",
        "We strongly recommend that you complete from the [Prep Course: Intro to Python](https://colab.research.google.com/github/anyoneai/notebooks/blob/main/python3_crash_course.ipynb) the following section:\n",
        "- Section 7: File I/O (to understand how to read CSV file)\n",
        "- Section 6: For Loop (to navigate the contents of the CSV file)\n",
        "- Section 5: Tuples, Lists, and Dictionaries (to manipulate the data of the CSV file)\n",
        "\n",
        "With this, we hope you can complete this exercise successfully. Although if you want to solve this with libraries or any other way, you are welcome to do it your way.\n",
        "\n",
        "*Hint:* We advise you to take a look at the data before you start.\n",
        "**if you want to manually take a look at the data before you start, please see the content of the data [here](https://github.com/anyoneai/notebooks/blob/main/customers_and_orders/data/customers.csv).\n",
        "\n",
        "*Hint*: There are many ways to do this exercise you can do your own, although here's some help. You can solve this exercise reading and parsing CSV files, structuring data into dictionaries, and using for loops to navigate the contents\n",
        "\n",
        "*Hint*: Also, keep in mind that data might not be clean and you might have to figure out how to deal with that data from the code, without having to modify the data source.\n",
        "\n",
        "Below are the 5 questions you'll have to answer to pass the evaluation:"
      ]
    },
    {
      "cell_type": "markdown",
      "metadata": {
        "id": "kJq7S8sBfbOW"
      },
      "source": [
        "**Question 1:** How many customers are in the file?\n",
        "(as help, we have added some comments and starter code to help you structure the solution)"
      ]
    },
    {
      "cell_type": "code",
      "execution_count": 4,
      "metadata": {
        "colab": {
          "base_uri": "https://localhost:8080/"
        },
        "id": "oMnUFBFb2RUb",
        "outputId": "22516446-9a61-486f-f383-77ddd41cc519"
      },
      "outputs": [
        {
          "output_type": "stream",
          "name": "stdout",
          "text": [
            "Total number of customers:: 602\n",
            "El número de clientes en el archivo es: 602\n",
            "All done!\n"
          ]
        }
      ],
      "source": [
        "from os.path import exists\n",
        "import csv\n",
        "\n",
        "# Check if file can be found and open the file\n",
        "datafile = \"./sample_data/customers.csv\"\n",
        "if not exists(datafile):\n",
        "    raise SystemExit(\"You should run the first code cell and download the dataset files!\")\n",
        "\n",
        "# Customers file is in the sample_data folder and can be opened.\n",
        "# Using csv reader is one way of dealing with the file\n",
        "# but it's up to you how you want to proceed\n",
        "with open(datafile, 'r') as fl:\n",
        "    csvreader = csv.reader(fl, delimiter=',')\n",
        "\n",
        "    # Skip the header\n",
        "    header = next(csvreader)\n",
        "\n",
        "    # Initialize customer count\n",
        "    customer_count = 0\n",
        "\n",
        "    # Loop through the rows and count the number of customers\n",
        "    for row in csvreader:\n",
        "        customer_count += 1\n",
        "\n",
        "print(f\"Total number of customers:: {customer_count}\")\n",
        "print(f\"El número de clientes en el archivo es: {customer_count}\")\n",
        "print(\"All done!\")\n"
      ]
    },
    {
      "cell_type": "markdown",
      "metadata": {
        "id": "uffBnNgz_570"
      },
      "source": [
        "**Question 2:** In how many different states do the customers live in?"
      ]
    },
    {
      "cell_type": "code",
      "execution_count": 6,
      "metadata": {
        "id": "Bi_yid0sMe3-",
        "colab": {
          "base_uri": "https://localhost:8080/"
        },
        "outputId": "c640b415-e64c-4eb0-a33c-981ac0cbabfe"
      },
      "outputs": [
        {
          "output_type": "stream",
          "name": "stdout",
          "text": [
            "Number of different states: 16\n",
            "Número de estados en los que viven los cientes: 16\n",
            "All done!\n"
          ]
        }
      ],
      "source": [
        "from os.path import exists\n",
        "import csv\n",
        "\n",
        "# check if file can be found and open the file\n",
        "datafile = \"./sample_data/customers.csv\"\n",
        "if not exists(datafile):\n",
        "    raise SystemExit(\"You should run the first code cell and download the dataset files!\")\n",
        "\n",
        "# customers file is in the sample_data folder and can be opened.\n",
        "# Using csv reader is one way of dealing with the file\n",
        "# but it's up to you how you want to proceed\n",
        "with open(datafile, 'r') as fl:\n",
        "    csvreader = csv.reader(fl, delimiter=',')\n",
        "\n",
        "    # Initialize a set to store unique states\n",
        "    states = set()\n",
        "\n",
        "    # Loop through the rows and add states to the set\n",
        "    for row in csvreader:\n",
        "        # Skip the header row\n",
        "        if csvreader.line_num == 1:\n",
        "            continue\n",
        "        states.add(row[4])  # Assuming 'State' is the 5th column (index 4)\n",
        "\n",
        "print(f\"Number of different states: {len(states)}\")\n",
        "print(f\"Número de estados en los que viven los cientes: {len(states)}\")\n",
        "print(\"All done!\")\n",
        "\n",
        "\n",
        "# open file and init vars\n",
        "# evaluate the contents of the file\n",
        "# open file and init vars\n",
        "# evaluate the contents of the file"
      ]
    },
    {
      "cell_type": "markdown",
      "metadata": {
        "id": "DC59SZYiMfNY"
      },
      "source": [
        "**Question 3** What is the state with most customers?"
      ]
    },
    {
      "cell_type": "code",
      "execution_count": 5,
      "metadata": {
        "id": "tfGU3w-OMhA9",
        "colab": {
          "base_uri": "https://localhost:8080/"
        },
        "outputId": "fec0061d-7902-4052-ce93-8fe1c1930590"
      },
      "outputs": [
        {
          "output_type": "stream",
          "name": "stdout",
          "text": [
            "The state with the most customers is CA with 562 customers.\n",
            "El estado con mas clientes es CA con 562 clientes.\n",
            "All done!\n"
          ]
        }
      ],
      "source": [
        "from os.path import exists\n",
        "import csv\n",
        "\n",
        "# Check if file can be found and open the file\n",
        "datafile = \"./sample_data/customers.csv\"\n",
        "if not exists(datafile):\n",
        "    raise SystemExit(\"You should run the first code cell and download the dataset files!\")\n",
        "\n",
        "# Customers file is in the sample_data folder and can be opened.\n",
        "# Using csv reader is one way of dealing with the file\n",
        "with open(datafile, 'r') as fl:\n",
        "    csvreader = csv.reader(fl, delimiter=',')\n",
        "\n",
        "    # Initialize a dictionary to store the frequency of each state\n",
        "    state_count = {}\n",
        "\n",
        "    # Loop through the rows and count the occurrences of each state\n",
        "    for row in csvreader:\n",
        "        # Skip the header row\n",
        "        if csvreader.line_num == 1:\n",
        "            continue\n",
        "        state = row[4]  # Assuming 'State' is the 5th column (index 4)\n",
        "        if state in state_count:\n",
        "            state_count[state] += 1\n",
        "        else:\n",
        "            state_count[state] = 1\n",
        "\n",
        "# Find the state with the most customers\n",
        "most_common_state = max(state_count, key=state_count.get)\n",
        "most_common_state_count = state_count[most_common_state]\n",
        "\n",
        "print(f\"The state with the most customers is {most_common_state} with {most_common_state_count} customers.\")\n",
        "print(f\"El estado con mas clientes es {most_common_state} con {most_common_state_count} clientes.\")\n",
        "print(\"All done!\")\n",
        "\n",
        "# open file and init vars\n",
        "# evaluate the contents of the file"
      ]
    },
    {
      "cell_type": "markdown",
      "metadata": {
        "id": "7mcM6cUAMhLB"
      },
      "source": [
        "**Question 4** What is the state with the least customers?"
      ]
    },
    {
      "cell_type": "code",
      "execution_count": 8,
      "metadata": {
        "id": "8T0Ka2RqMi3P",
        "colab": {
          "base_uri": "https://localhost:8080/"
        },
        "outputId": "859e03b1-0f05-4acd-bf74-b362358fb6fe"
      },
      "outputs": [
        {
          "output_type": "stream",
          "name": "stdout",
          "text": [
            "The state with the least customers is WA with 1 customers.\n",
            "El estado con menos cleintes WA con 1 clientes.\n",
            "All done!\n"
          ]
        }
      ],
      "source": [
        "from os.path import exists\n",
        "import csv\n",
        "\n",
        "# Check if file can be found and open the file\n",
        "datafile = \"./sample_data/customers.csv\"\n",
        "if not exists(datafile):\n",
        "    raise SystemExit(\"You should run the first code cell and download the dataset files!\")\n",
        "\n",
        "# Customers file is in the sample_data folder and can be opened.\n",
        "# Using csv reader is one way of dealing with the file\n",
        "with open(datafile, 'r') as fl:\n",
        "    csvreader = csv.reader(fl, delimiter=',')\n",
        "\n",
        "    # Initialize a dictionary to store the frequency of each state\n",
        "    state_count = {}\n",
        "\n",
        "    # Loop through the rows and count the occurrences of each state\n",
        "    for row in csvreader:\n",
        "        # Skip the header row\n",
        "        if csvreader.line_num == 1:\n",
        "            continue\n",
        "        state = row[4]  # Assuming 'State' is the 5th column (index 4)\n",
        "        if state in state_count:\n",
        "            state_count[state] += 1\n",
        "        else:\n",
        "            state_count[state] = 1\n",
        "\n",
        "# Find the state with the least customers\n",
        "least_common_state = min(state_count, key=state_count.get)\n",
        "least_common_state_count = state_count[least_common_state]\n",
        "\n",
        "print(f\"The state with the least customers is {least_common_state} with {least_common_state_count} customers.\")\n",
        "print(f\"El estado con menos clientes {least_common_state} con {least_common_state_count} clientes.\")\n",
        "print(\"All done!\")\n",
        "# open file and init vars\n",
        "# evaluate the contents of the file"
      ]
    },
    {
      "cell_type": "markdown",
      "metadata": {
        "id": "h6fIy7hXHF6A"
      },
      "source": [
        "**Question 5:** What is the most common last name?"
      ]
    },
    {
      "cell_type": "code",
      "execution_count": 9,
      "metadata": {
        "id": "k8M1DmA75Km7",
        "colab": {
          "base_uri": "https://localhost:8080/"
        },
        "outputId": "57138721-bf1c-4049-807c-e36f32a498e7"
      },
      "outputs": [
        {
          "output_type": "stream",
          "name": "stdout",
          "text": [
            "The most common last name is Smith with 8 occurrences.\n",
            "El apellido más común es Smith con 8 repeticiones.\n",
            "All done!\n"
          ]
        }
      ],
      "source": [
        "from os.path import exists\n",
        "import csv\n",
        "\n",
        "# Check if file can be found and open the file\n",
        "datafile = \"./sample_data/customers.csv\"\n",
        "if not exists(datafile):\n",
        "    raise SystemExit(\"You should run the first code cell and download the dataset files!\")\n",
        "\n",
        "# Customers file is in the sample_data folder and can be opened.\n",
        "# Using csv reader is one way of dealing with the file\n",
        "with open(datafile, 'r') as fl:\n",
        "    csvreader = csv.reader(fl, delimiter=',')\n",
        "\n",
        "    # Initialize a dictionary to store the frequency of each last name\n",
        "    last_name_count = {}\n",
        "\n",
        "    # Loop through the rows and count the occurrences of each last name\n",
        "    for row in csvreader:\n",
        "        # Skip the header row\n",
        "        if csvreader.line_num == 1:\n",
        "            continue\n",
        "        last_name = row[2]  # Assuming 'Last Name' is the 3rd column (index 2)\n",
        "        if last_name in last_name_count:\n",
        "            last_name_count[last_name] += 1\n",
        "        else:\n",
        "            last_name_count[last_name] = 1\n",
        "\n",
        "# Find the most common last name\n",
        "most_common_last_name = max(last_name_count, key=last_name_count.get)\n",
        "most_common_last_name_count = last_name_count[most_common_last_name]\n",
        "\n",
        "print(f\"The most common last name is {most_common_last_name} with {most_common_last_name_count} occurrences.\")\n",
        "print(f\"El apellido más común es {most_common_last_name} con {most_common_last_name_count} repeticiones.\")\n",
        "print(\"All done!\")\n",
        "\n",
        "# open file and init vars\n",
        "# evaluate the contents of the file"
      ]
    },
    {
      "cell_type": "markdown",
      "metadata": {
        "id": "YPRma1t9NoFk"
      },
      "source": [
        "# Exercise 2: Processing Orders data (difficulty high)\n",
        "\n",
        "The second sample files contains orders placed by customers from the first file. Be careful, this file has many rows and you most likely should not print the contents of the whole file.\n",
        "\n",
        "The file contains the following columns: CustomerID, OrderID, Date, OrderTotal, ProductName, Price\n",
        "\n",
        "![Data sample](https://raw.githubusercontent.com/anyoneai/notebooks/main/customers_and_orders/images/orders.png)\n",
        "\n",
        "*Hint:* We advise you to take a look at the data before you start.\n",
        "**if you want to manually take a look at the data before you start, please see the content of the data [here](https://raw.githubusercontent.com/anyoneai/notebooks/main/customers_and_orders/data/orders.csv).\n",
        "\n",
        "*Hint*: There are many ways to do this exercise you can do your own, although here's some help. You can solve this exercise reading and parsing CSV files, structuring data into dictionaries, and using for loops to navigate the contents\n",
        "\n",
        "*Hint*: Also, the data is not clean and you will have to figure out how to deal with that data from the code, without having to modify the data source.\n",
        "\n",
        "\n",
        "\n",
        "**Question #1:** How many unique orders are in the orders.csv file?\n",
        "\n",
        "**Question #2:** What is the average number of items per order (rounded to two decimal places)?\n",
        "\n",
        "**Question #3:** What is the highest number of items per order?\n",
        "\n",
        "**Question #4:** What is the number of orders placed in October 2021?\n",
        "\n",
        "**Question #5:** Which customer spent the most amount of money in 2021?\n",
        "\n",
        "**Question #6:** Historically, what is the best month for sales?\n",
        "\n",
        "Once you get your answers, remember to go back to the course and introduce them in the multiple choice quiz"
      ]
    },
    {
      "cell_type": "code",
      "execution_count": 11,
      "metadata": {
        "id": "8ipJTrfs5QVM",
        "colab": {
          "base_uri": "https://localhost:8080/"
        },
        "outputId": "4a98dd46-999d-47ed-b527-ad4913eda09e"
      },
      "outputs": [
        {
          "output_type": "stream",
          "name": "stdout",
          "text": [
            "Total number of unique orders: 471\n",
            "Total de órdenes únicas: 471\n",
            "All done!\n"
          ]
        }
      ],
      "source": [
        "# Question #1: How many unique orders are in the orders.csv file?\n",
        "\n",
        "from os.path import exists\n",
        "import csv\n",
        "\n",
        "# Check if file can be found and open the file\n",
        "datafile = \"./sample_data/orders.csv\"\n",
        "if not exists(datafile):\n",
        "    raise SystemExit(\"You should run the first code cell and download the dataset files!\")\n",
        "\n",
        "# Initialize a set to store unique orders\n",
        "unique_orders = set()\n",
        "\n",
        "# Using csv reader is one way of dealing with the file\n",
        "with open(datafile, 'r') as fl:\n",
        "    csvreader = csv.reader(fl, delimiter=',')\n",
        "\n",
        "    # Loop through the rows and add orders to the set\n",
        "    for row in csvreader:\n",
        "        # Skip the header row\n",
        "        if csvreader.line_num == 1:\n",
        "            continue\n",
        "        unique_orders.add(row[0])  # Assuming 'Order ID' is the 1st column (index 0)\n",
        "\n",
        "print(f\"Total number of unique orders: {len(unique_orders)}\")\n",
        "print(f\"Total de órdenes únicas: {len(unique_orders)}\")\n",
        "print(\"All done!\")\n",
        "\n",
        "# open and evaluate orders.csv"
      ]
    },
    {
      "cell_type": "code",
      "source": [
        "#Question #2: What is the average number of items per order (rounded to two decimal places)?\n",
        "\n",
        "from os.path import exists\n",
        "import csv\n",
        "\n",
        "# Check if file can be found and open the file\n",
        "datafile = \"./sample_data/orders.csv\"\n",
        "if not exists(datafile):\n",
        "    raise SystemExit(\"You should run the first code cell and download the dataset files!\")\n",
        "\n",
        "# Initialize variables to store order counts and item counts\n",
        "order_counts = {}\n",
        "total_items = 0\n",
        "\n",
        "# Using csv reader to deal with the file\n",
        "with open(datafile, 'r') as fl:\n",
        "    csvreader = csv.reader(fl, delimiter=',')\n",
        "\n",
        "    # Loop through the rows to count items per order\n",
        "    for row in csvreader:\n",
        "        # Skip the header row\n",
        "        if csvreader.line_num == 1:\n",
        "            continue\n",
        "        order_id = row[1]  # Assuming 'OrderID' is the 2nd column (index 1)\n",
        "        if order_id not in order_counts:\n",
        "            order_counts[order_id] = 0\n",
        "        order_counts[order_id] += 1\n",
        "        total_items += 1\n",
        "\n",
        "average_items = total_items / len(order_counts)\n",
        "print(f\"Average number of items per order: {average_items:.2f}\")\n",
        "print(f\"Número promedio de artículos por orden: {average_items:.2f}\")\n",
        "print(\"All done!\")"
      ],
      "metadata": {
        "colab": {
          "base_uri": "https://localhost:8080/"
        },
        "id": "TCRyuwTnw2Cn",
        "outputId": "09b6c9ac-c26e-4ecd-88e0-22fd3cf3be55"
      },
      "execution_count": 13,
      "outputs": [
        {
          "output_type": "stream",
          "name": "stdout",
          "text": [
            "Average number of items per order: 1.76\n",
            "Número promedio de artículos por orden: 1.76\n",
            "All done!\n"
          ]
        }
      ]
    },
    {
      "cell_type": "code",
      "source": [
        "# Question #3: What is the highest number of items per order?\n",
        "\n",
        "from os.path import exists\n",
        "import csv\n",
        "\n",
        "# Check if file can be found and open the file\n",
        "datafile = \"./sample_data/orders.csv\"\n",
        "if not exists(datafile):\n",
        "    raise SystemExit(\"You should run the first code cell and download the dataset files!\")\n",
        "\n",
        "# Initialize a dictionary to store item counts per order\n",
        "order_counts = {}\n",
        "\n",
        "# Read the CSV file and count items per order\n",
        "with open(datafile, 'r') as fl:\n",
        "    csvreader = csv.reader(fl, delimiter=',')\n",
        "\n",
        "    for row in csvreader:\n",
        "        if csvreader.line_num == 1:\n",
        "            continue\n",
        "        order_id = row[1]  # Assuming 'OrderID' is the 2nd column (index 1)\n",
        "        if order_id not in order_counts:\n",
        "            order_counts[order_id] = 0\n",
        "        order_counts[order_id] += 1\n",
        "\n",
        "# Find the highest number of items per order\n",
        "max_items = max(order_counts.values())\n",
        "print(f\"Highest number of items per order: {max_items}\")\n",
        "print(f\"Mayor número de artículos por orden: {max_items}\")\n",
        "print(\"All done!\")\n"
      ],
      "metadata": {
        "id": "DY-_OVFu6arI",
        "outputId": "00113e12-fd09-4973-e976-96a0171f1013",
        "colab": {
          "base_uri": "https://localhost:8080/"
        }
      },
      "execution_count": 14,
      "outputs": [
        {
          "output_type": "stream",
          "name": "stdout",
          "text": [
            "Highest number of items per order: 35\n",
            "Mayor número de artículos por orden: 35\n",
            "All done!\n"
          ]
        }
      ]
    },
    {
      "cell_type": "code",
      "source": [
        "#Question #4: What is the number of orders placed in October 2021?\n",
        "\n",
        "import csv\n",
        "from datetime import datetime\n",
        "\n",
        "# Check if file can be found and open the file\n",
        "datafile = \"./sample_data/orders.csv\"\n",
        "if not exists(datafile):\n",
        "    raise SystemExit(\"You should run the first code cell and download the dataset files!\")\n",
        "\n",
        "# Initialize a count for orders in October 2021\n",
        "october_orders = 0\n",
        "\n",
        "# Using csv reader to read the file\n",
        "with open(datafile, 'r') as fl:\n",
        "    csvreader = csv.reader(fl, delimiter=',')\n",
        "\n",
        "    # Loop through the rows and count orders in October 2021\n",
        "    for row in csvreader:\n",
        "        # Skip the header row\n",
        "        if csvreader.line_num == 1:\n",
        "            continue\n",
        "\n",
        "        try:\n",
        "            order_date = datetime.strptime(row[2], '%Y-%m-%d %H:%M:%S.%f')  # Assuming 'Order Date' is the 3rd column (index 2)\n",
        "        except ValueError:\n",
        "            # Skip rows with incorrect date format\n",
        "            continue\n",
        "\n",
        "        if order_date.year == 2021 and order_date.month == 10:\n",
        "            october_orders += 1\n",
        "\n",
        "print(f\"Number of orders in October 2021: {october_orders}\")\n",
        "print(f\"Número de ordenes en octrubre del 2021: {october_orders}\")\n",
        "print(\"All done!\")"
      ],
      "metadata": {
        "id": "rzMAuhNc6wX_",
        "outputId": "57082b02-46da-4da1-e0cf-a82b71d0a328",
        "colab": {
          "base_uri": "https://localhost:8080/"
        }
      },
      "execution_count": 15,
      "outputs": [
        {
          "output_type": "stream",
          "name": "stdout",
          "text": [
            "Number of orders in October 2021: 437\n",
            "Número de ordenes en octrubre del 2021: 437\n",
            "All done!\n"
          ]
        }
      ]
    },
    {
      "cell_type": "code",
      "source": [
        "#Question #5: Which customer spent the most amount of money in 2021?\n",
        "\n",
        "import csv\n",
        "from datetime import datetime\n",
        "\n",
        "# Check if file can be found and open the file\n",
        "datafile = \"./sample_data/orders.csv\"\n",
        "if not exists(datafile):\n",
        "    raise SystemExit(\"You should run the first code cell and download the dataset files!\")\n",
        "\n",
        "# Initialize a dictionary to store spending per customer\n",
        "customer_spending = {}\n",
        "\n",
        "# Using csv reader to read the file\n",
        "with open(datafile, 'r') as fl:\n",
        "    csvreader = csv.reader(fl, delimiter=',')\n",
        "\n",
        "    # Loop through the rows and calculate spending per customer in 2021\n",
        "    for row in csvreader:\n",
        "        # Skip the header row\n",
        "        if csvreader.line_num == 1:\n",
        "            continue\n",
        "        customer_id = row[3]  # Assuming 'Customer ID' is the 4th column (index 3)\n",
        "\n",
        "        try:\n",
        "            order_date = datetime.strptime(row[2], '%Y-%m-%d %H:%M:%S.%f')  # Assuming 'Order Date' is the 3rd column (index 2)\n",
        "        except ValueError:\n",
        "            # Skip rows with incorrect date format\n",
        "            continue\n",
        "\n",
        "        try:\n",
        "            order_amount = float(row[4])  # Assuming 'Order Amount' is the 5th column (index 4)\n",
        "        except ValueError:\n",
        "            # Skip rows with non-numeric order amount\n",
        "            continue\n",
        "\n",
        "        if order_date.year == 2021:\n",
        "            if customer_id in customer_spending:\n",
        "                customer_spending[customer_id] += order_amount\n",
        "            else:\n",
        "                customer_spending[customer_id] = order_amount\n",
        "\n",
        "# Find the customer who spent the most in 2021\n",
        "top_spender = max(customer_spending, key=customer_spending.get)\n",
        "print(f\"Id Customer who spent the most in 2021: {top_spender}\")\n",
        "print(f\"El id del cliente que mas gasto en 2021 : {top_spender}\")\n",
        "print(\"All done!\")"
      ],
      "metadata": {
        "id": "aKaqh_tV65dv",
        "outputId": "8387f2b5-90c0-424d-c3de-5a8f12d21382",
        "colab": {
          "base_uri": "https://localhost:8080/"
        }
      },
      "execution_count": 16,
      "outputs": [
        {
          "output_type": "stream",
          "name": "stdout",
          "text": [
            "Id Customer who spent the most in 2021: 260.0000\n",
            "El id del cliente que mas gasto en 2021 : 260.0000\n",
            "All done!\n"
          ]
        }
      ]
    },
    {
      "cell_type": "code",
      "source": [
        "# Question #6: Historically, what is the best month for sales?\n",
        "\n",
        "import csv\n",
        "from datetime import datetime\n",
        "\n",
        "# Check if file can be found and open the file\n",
        "datafile = \"./sample_data/orders.csv\"\n",
        "if not exists(datafile):\n",
        "    raise SystemExit(\"You should run the first code cell and download the dataset files!\")\n",
        "\n",
        "# Initialize a dictionary to store total sales per month\n",
        "monthly_sales = {}\n",
        "\n",
        "# Using csv reader to read the file\n",
        "with open(datafile, 'r') as fl:\n",
        "    csvreader = csv.reader(fl, delimiter=',')\n",
        "\n",
        "    # Loop through the rows and calculate total sales per month\n",
        "    for row in csvreader:\n",
        "        # Skip the header row\n",
        "        if csvreader.line_num == 1:\n",
        "            continue\n",
        "\n",
        "        try:\n",
        "            order_date = datetime.strptime(row[2], '%Y-%m-%d %H:%M:%S.%f')  # Assuming 'Order Date' is the 3rd column (index 2)\n",
        "        except ValueError:\n",
        "            # Skip rows with incorrect date format\n",
        "            continue\n",
        "\n",
        "        try:\n",
        "            order_amount = float(row[4])  # Assuming 'Order Amount' is the 5th column (index 4)\n",
        "        except ValueError:\n",
        "            # Skip rows with non-numeric order amount\n",
        "            continue\n",
        "\n",
        "        month = order_date.strftime('%B')\n",
        "        if month in monthly_sales:\n",
        "            monthly_sales[month] += order_amount\n",
        "        else:\n",
        "            monthly_sales[month] = order_amount\n",
        "\n",
        "# Find the month with the highest sales\n",
        "best_month = max(monthly_sales, key=monthly_sales.get)\n",
        "print(f\"Best month for sales historically: {best_month}\")\n",
        "print(f\"El mejor mes por vetas historicamente: {best_month}\")\n",
        "print(\"All done!\")\n"
      ],
      "metadata": {
        "id": "_oFEsdga7AYP",
        "outputId": "dcfed4de-7892-4b65-a022-5a677d46c5c8",
        "colab": {
          "base_uri": "https://localhost:8080/"
        }
      },
      "execution_count": 17,
      "outputs": [
        {
          "output_type": "stream",
          "name": "stdout",
          "text": [
            "Best month for sales historically: January\n",
            "El mejor mes por vetas historicamente: January\n",
            "All done!\n"
          ]
        }
      ]
    },
    {
      "cell_type": "markdown",
      "metadata": {
        "id": "ie0JW4FAk6Os"
      },
      "source": [
        "# Finished!\n",
        "\n",
        "Hope this was not too difficult and slicing and dicing the datasets was some fun. Now head on back to the course and provide the answers to the questions from this exercise."
      ]
    }
  ],
  "metadata": {
    "colab": {
      "name": "customers_and_orders.ipynb",
      "provenance": []
    },
    "kernelspec": {
      "display_name": "Python 3 (ipykernel)",
      "language": "python",
      "name": "python3"
    },
    "language_info": {
      "codemirror_mode": {
        "name": "ipython",
        "version": 3
      },
      "file_extension": ".py",
      "mimetype": "text/x-python",
      "name": "python",
      "nbconvert_exporter": "python",
      "pygments_lexer": "ipython3",
      "version": "3.9.9"
    }
  },
  "nbformat": 4,
  "nbformat_minor": 0
}